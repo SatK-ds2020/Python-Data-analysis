{
 "cells": [
  {
   "cell_type": "code",
   "execution_count": 1,
   "id": "2b760277",
   "metadata": {},
   "outputs": [
    {
     "ename": "SyntaxError",
     "evalue": "invalid syntax (Temp/ipykernel_17080/1815968294.py, line 2)",
     "output_type": "error",
     "traceback": [
      "\u001b[1;36m  File \u001b[1;32m\"C:\\Users\\satin\\AppData\\Local\\Temp/ipykernel_17080/1815968294.py\"\u001b[1;36m, line \u001b[1;32m2\u001b[0m\n\u001b[1;33m    break=5\u001b[0m\n\u001b[1;37m         ^\u001b[0m\n\u001b[1;31mSyntaxError\u001b[0m\u001b[1;31m:\u001b[0m invalid syntax\n"
     ]
    }
   ],
   "source": [
    "# 1. Create a variable called break and assign it a value 5. See what happens and find out the reason behind the behavior that you see\n",
    "break=5"
   ]
  },
  {
   "cell_type": "code",
   "execution_count": 3,
   "id": "8aae187a",
   "metadata": {},
   "outputs": [
    {
     "data": {
      "text/plain": [
       "39"
      ]
     },
     "execution_count": 3,
     "metadata": {},
     "output_type": "execute_result"
    }
   ],
   "source": [
    "#2. Create two variables. One to store your birth year and another one to store current year. Now calculate your age using these two variables\n",
    "birth_year=1983\n",
    "current_year=2022\n",
    "age=current_year-birth_year\n",
    "age"
   ]
  },
  {
   "cell_type": "code",
   "execution_count": 6,
   "id": "d97271ac",
   "metadata": {},
   "outputs": [
    {
     "name": "stdout",
     "output_type": "stream",
     "text": [
      "My full name is:Suman Gahlot Kathania\n"
     ]
    }
   ],
   "source": [
    "# 3. Store your first, middle and last name in three different variables and then print your full name using these variables\n",
    "first=\"Suman\"\n",
    "middle=\"Gahlot\"\n",
    "last=\"Kathania\"\n",
    "print(\"My full name is:\"+first+\" \"+ middle+\" \"+last)"
   ]
  },
  {
   "cell_type": "code",
   "execution_count": null,
   "id": "d57d31f3",
   "metadata": {},
   "outputs": [],
   "source": [
    "#4. Answer which of these are invalid variable names: \"_nation, 1record, record1, record_one, record-one, record^one, continue\"\n",
    "# record1,record_one,record-one, record^one continue"
   ]
  },
  {
   "cell_type": "code",
   "execution_count": 7,
   "id": "094586ae",
   "metadata": {},
   "outputs": [
    {
     "name": "stdout",
     "output_type": "stream",
     "text": [
      "area of football field: 4489.599999999999\n"
     ]
    }
   ],
   "source": [
    "# 1. You have a football field that is 92 meter long and 48.8 meter wide. Find out total\n",
    "#    area using python and print it\n",
    "length=92\n",
    "width=48.8\n",
    "area=length*width\n",
    "print(\"area of football field:\",area)"
   ]
  },
  {
   "cell_type": "code",
   "execution_count": 8,
   "id": "2a19626c",
   "metadata": {},
   "outputs": [
    {
     "name": "stdout",
     "output_type": "stream",
     "text": [
      "Cash back: 6.59\n"
     ]
    }
   ],
   "source": [
    "# 2. You bought 9 packets of potato chips from a store. Each packet costs 1.49 dollar\n",
    "#    and you gave shopkeeper 20 dollar.\n",
    "#    Find out using python, how many dollars is the shopkeeper going to give you back?\n",
    "num_packets=9\n",
    "cost_per_packet=1.49\n",
    "total_cost=num_packets*cost_per_packet\n",
    "money_paid=20\n",
    "cash_back=money_paid-total_cost\n",
    "print(\"Cash back:\",cash_back)"
   ]
  },
  {
   "cell_type": "code",
   "execution_count": 9,
   "id": "28e53031",
   "metadata": {},
   "outputs": [
    {
     "name": "stdout",
     "output_type": "stream",
     "text": [
      "total cost for bathroom tiles replacement: 15125.0\n"
     ]
    }
   ],
   "source": [
    "# 3. You want to replace tiles in your bathroom which is exactly square and 5.5 feet\n",
    "#    is its length. If tiles cost 500 rs per square feet, how much will be the total\n",
    "#    cost to replace all tiles. Calculate and print the cost using python\n",
    "#    Hint: Use power operator (**) to find area of a square\n",
    "length=5.5\n",
    "area=length**2 # area of square is length power 2\n",
    "cost=area*500\n",
    "print(\"total cost for bathroom tiles replacement:\",cost)"
   ]
  },
  {
   "cell_type": "code",
   "execution_count": 10,
   "id": "65044731",
   "metadata": {},
   "outputs": [
    {
     "name": "stdout",
     "output_type": "stream",
     "text": [
      "Binary of number 17 is: 10001\n"
     ]
    }
   ],
   "source": [
    "# 4. Print binary representation of number 17\n",
    "num=17\n",
    "print('Binary of number 17 is:',format(num,'b'))"
   ]
  },
  {
   "cell_type": "code",
   "execution_count": 11,
   "id": "f9c5c4eb",
   "metadata": {},
   "outputs": [
    {
     "name": "stdout",
     "output_type": "stream",
     "text": [
      "Address using + operator: 13 patli gali\n",
      "New Delhi\n",
      "India\n",
      "Address using f-string: 13 patli gali\n",
      "New Delhi\n",
      "India\n"
     ]
    }
   ],
   "source": [
    "# 1. Create 3 variables to store street, city and country, now create address variable to\n",
    "# store entire address. Use two ways of creating this variable, one using + operator and the other using f-string.\n",
    "# Now Print the address in such a way that the street, city and country prints in a separate line\n",
    "street = \"13 patli gali\"\n",
    "city = \"New Delhi\"\n",
    "country = \"India\"\n",
    "address = street + '\\n' + city + '\\n' + country\n",
    "print(\"Address using + operator:\",address)\n",
    "address = f'{street}\\n{city}\\n{country}'\n",
    "print(\"Address using f-string:\",address)"
   ]
  },
  {
   "cell_type": "code",
   "execution_count": 12,
   "id": "0e2b459b",
   "metadata": {},
   "outputs": [
    {
     "name": "stdout",
     "output_type": "stream",
     "text": [
      "revolves\n",
      "sun\n"
     ]
    }
   ],
   "source": [
    "# 2. Create a variable to store the string \"Earth revolves around the sun\"\n",
    "#     1. Print \"revolves\" using slice operator\n",
    "#     2. Print \"sun\" using negative index\n",
    "s='Earth revolves around the sun'\n",
    "print(s[6:14])\n",
    "print(s[-3:])"
   ]
  },
  {
   "cell_type": "code",
   "execution_count": 13,
   "id": "d3da21c9",
   "metadata": {},
   "outputs": [
    {
     "name": "stdout",
     "output_type": "stream",
     "text": [
      "I eat 5 veggies and 10 daily\n"
     ]
    }
   ],
   "source": [
    "# 3. Create two variables to store how many fruits and vegetables you eat in a day.\n",
    "# Now Print \"I eat x veggies and y fruits daily\" where x and y presents vegetables and fruits that you eat everyday.\n",
    "# Use python f string for this.\n",
    "num_fruits=10\n",
    "num_veggies=5\n",
    "print(f\"I eat {num_veggies} veggies and {num_fruits} daily\")"
   ]
  },
  {
   "cell_type": "code",
   "execution_count": 14,
   "id": "8fb8e710",
   "metadata": {},
   "outputs": [
    {
     "name": "stdout",
     "output_type": "stream",
     "text": [
      "Using two line replace: maine 10 samosa khaye\n"
     ]
    }
   ],
   "source": [
    "# 4. I have a string variable called s='maine 200 banana khaye'. This of course is a\n",
    "# wrong statement, the correct statement is 'maine 10 samosa khaye'.\n",
    "# Replace incorrect words in original strong with new ones and print the new string.\n",
    "# Also try to do this in one line.\n",
    "s='maine 200 banana khaye'\n",
    "s=s.replace('banana','samosa')\n",
    "s=s.replace('200','10')\n",
    "print(\"Using two line replace:\",s)"
   ]
  },
  {
   "cell_type": "code",
   "execution_count": 15,
   "id": "e363eadc",
   "metadata": {},
   "outputs": [
    {
     "name": "stdout",
     "output_type": "stream",
     "text": [
      "Using single line: maine 10 samosa khaye\n"
     ]
    }
   ],
   "source": [
    "s='maine 200 banana khaye'\n",
    "s=s.replace('banana','samosa').replace('200','10')\n",
    "print(\"Using single line:\",s)"
   ]
  },
  {
   "cell_type": "code",
   "execution_count": 17,
   "id": "336f10ec",
   "metadata": {},
   "outputs": [
    {
     "name": "stdout",
     "output_type": "stream",
     "text": [
      "1.In feb this much extra was spent compared to jan: 150\n",
      "2.Expense for first quarter: 7150\n",
      "3.Did I spent 2000$ in any month?  False\n",
      "4.Expenses at the end of June: [2200, 2350, 2600, 2130, 2190, 1980]\n",
      "5.Expenses after 200$ return in April: [2200, 2350, 2600, 1930, 2190, 1980]\n"
     ]
    }
   ],
   "source": [
    "# 1. Let us say your expense for every month are listed below,\n",
    "#     1. January -  2200\n",
    "#     2. February - 2350\n",
    "#     3. March - 2600\n",
    "#     4. April - 2130\n",
    "#     5. May - 2190\n",
    "#\n",
    "# Create a list to store these monthly expenses and using that find out,\n",
    "exp = [2200,2350,2600,2130,2190]\n",
    "\n",
    "# 1. In Feb, how many dollars you spent extra compare to January?\n",
    "print(\"1.In feb this much extra was spent compared to jan:\",exp[1]-exp[0])\n",
    "\n",
    "# 2. Find out your total expense in first quarter (first three months) of the year.\n",
    "print(\"2.Expense for first quarter:\",exp[0]+exp[1]+exp[2])\n",
    "\n",
    "# 3. Find out if you spent exactly 2000 dollars in any month\n",
    "print(\"3.Did I spent 2000$ in any month? \", 2000 in exp)\n",
    "\n",
    "# 4. June month just finished and your expense is 1980 dollar. Add this item to our monthly expense list\n",
    "exp.append(1980)\n",
    "print(\"4.Expenses at the end of June:\",exp)\n",
    "\n",
    "# 5. You returned an item that you bought in a month of April and\n",
    "# got a refund of 200$. Make a correction to your monthly expense list\n",
    "# based on this\n",
    "\n",
    "exp[3] = exp[3] - 200\n",
    "print(\"5.Expenses after 200$ return in April:\",exp)\n"
   ]
  },
  {
   "cell_type": "code",
   "execution_count": 20,
   "id": "a6fcd00b",
   "metadata": {},
   "outputs": [
    {
     "name": "stdout",
     "output_type": "stream",
     "text": [
      "1.Length of the list: 5\n",
      "2.After adding black panther to the list: ['spider man', 'thor', 'hulk', 'iron man', 'captain america', 'black panther']\n",
      "3. Adding black panther after hulk and then removing and adding again after hulk: ['spider man', 'thor', 'hulk', 'black panther', 'iron man', 'captain america']\n",
      "4.remove thor and hulk from list and replace them with doctor strange: ['spider man', 'doctor strange', 'black panther', 'iron man', 'captain america']\n",
      "5.Sort the list: ['black panther', 'captain america', 'doctor strange', 'iron man', 'spider man']\n"
     ]
    }
   ],
   "source": [
    "# 2. You have a list of your favourite marvel super heros\n",
    "# heros=['spider man','thor','hulk','iron man','captain america']\n",
    "# Using this list\n",
    "\n",
    "heros=['spider man','thor','hulk','iron man','captain america']\n",
    "\n",
    "# 1. Length of the list\n",
    "print(\"1.Length of the list:\",len(heros))\n",
    "\n",
    "# 2. Add 'black panther' at the end of this list\n",
    "heros.append('black panther')\n",
    "print(\"2.After adding black panther to the list:\", heros)\n",
    "\n",
    "# 3. You realize that you need to add 'black panther' after 'hulk',\n",
    "# so remove it from the list first and then add it after 'hulk'\n",
    "heros.remove('black panther')\n",
    "heros.insert(3,'black panther')\n",
    "print(\"3. Adding black panther after hulk and then removing and adding again after hulk:\", heros)\n",
    "\n",
    "# 4. Now you don't like thor and hulk because they get angry easily :)\n",
    "#    So you want to remove thor and hulk from list and replace them with doctor strange (because he is cool).\n",
    "#    Do that with one line of code.\n",
    "\n",
    "heros[1:3]=['doctor strange']\n",
    "print(\"4.remove thor and hulk from list and replace them with doctor strange:\",heros)\n",
    "\n",
    "# 5. Sort the list in alphabetical order\n",
    "heros.sort()\n",
    "print(\"5.Sort the list:\",heros)"
   ]
  },
  {
   "cell_type": "code",
   "execution_count": 29,
   "id": "eb0c4efc",
   "metadata": {},
   "outputs": [
    {
     "name": "stdout",
     "output_type": "stream",
     "text": [
      "Head count: 4\n"
     ]
    }
   ],
   "source": [
    "#After flipping a coin 10 times you got this result,\n",
    "result = [\"heads\",\"tails\",\"tails\",\"heads\",\"tails\",\"heads\",\"heads\",\"tails\",\"tails\",\"tails\"]\n",
    "#Using for loop figure out how many times you got heads\n",
    "count=0\n",
    "for i in result:\n",
    "    if i==\"heads\":\n",
    "        count=count+1\n",
    "print(\"Head count:\",count)\n",
    "        "
   ]
  },
  {
   "cell_type": "code",
   "execution_count": 30,
   "id": "62dcb5c1",
   "metadata": {},
   "outputs": [
    {
     "name": "stdout",
     "output_type": "stream",
     "text": [
      "1\n",
      "9\n",
      "25\n",
      "49\n",
      "81\n"
     ]
    }
   ],
   "source": [
    "# Print square of all numbers between 1 to 10 except even numbers\n",
    "for i in range(1,11):\n",
    "    if i % 2 ==0:\n",
    "        continue\n",
    "    print(i*i)"
   ]
  },
  {
   "cell_type": "code",
   "execution_count": 45,
   "id": "7b616bce",
   "metadata": {},
   "outputs": [
    {
     "ename": "SyntaxError",
     "evalue": "invalid syntax (Temp/ipykernel_17080/3905204294.py, line 10)",
     "output_type": "error",
     "traceback": [
      "\u001b[1;36m  File \u001b[1;32m\"C:\\Users\\satin\\AppData\\Local\\Temp/ipykernel_17080/3905204294.py\"\u001b[1;36m, line \u001b[1;32m10\u001b[0m\n\u001b[1;33m    for e in range(len(expense_list)):\u001b[0m\n\u001b[1;37m                                     ^\u001b[0m\n\u001b[1;31mSyntaxError\u001b[0m\u001b[1;31m:\u001b[0m invalid syntax\n"
     ]
    }
   ],
   "source": [
    "# 3. Your monthly expense list (from Jan to May) looks like this,\n",
    "\n",
    "expense_list = [2340, 2500, 2100, 3100, 2980]\n",
    "\n",
    "# Write a program that asks you to enter an expense amount and program\n",
    "# should tell you in which month that expense occurred. If expense is not\n",
    "# found then it should print that as well.\n",
    "\n",
    "expense_amount=int(input(\"Enter an expense: \")\n",
    "for e in range(len(expense_list)):\n",
    "    if expense_amount==expense_list[e]:\n",
    "                   break                   \n",
    "      print(\"Expense occured in Month:\",e+1,\"Expense:\",expense_amount)\n",
    "    else:\n",
    "      print(\"Expense not found in any month\")\n"
   ]
  },
  {
   "cell_type": "code",
   "execution_count": 39,
   "id": "d1da2c68",
   "metadata": {},
   "outputs": [
    {
     "name": "stdout",
     "output_type": "stream",
     "text": [
      "Enter expense amount: 6700\n",
      "You didn't spend 6700 in any month\n"
     ]
    }
   ],
   "source": [
    "month_list = [\"January\", \"February\", \"March\", \"April\", \"May\"]\n",
    "expense_list = [2340, 2500, 2100, 3100, 2980]\n",
    "e = input(\"Enter expense amount: \")\n",
    "e = int(e)\n",
    "\n",
    "month = -1\n",
    "for i in range(len(expense_list)):\n",
    "    if e == expense_list[i]:\n",
    "        month = i\n",
    "        break\n",
    "\n",
    "if month != -1:\n",
    "    print(f'You spent {e} in {month_list[month]}')\n",
    "else:\n",
    "    print(f'You didn\\'t spend {e} in any month')"
   ]
  },
  {
   "cell_type": "code",
   "execution_count": 47,
   "id": "9bb00a1f",
   "metadata": {},
   "outputs": [
    {
     "name": "stdout",
     "output_type": "stream",
     "text": [
      "You ran 1 km\n",
      "Are you tired? no\n",
      "You ran 2 km\n",
      "Are you tired? no\n",
      "You ran 3 km\n",
      "Are you tired? no\n",
      "You ran 4 km\n",
      "Are you tired? no\n",
      "You ran 5 km\n",
      "Are you tired? no\n",
      "Hurray! You have completed 5 km race\n"
     ]
    }
   ],
   "source": [
    "# 4. Lets say you are running a 5 km race. Write a program that,\n",
    "#    1. Upon completing each 1 km asks you \"are you tired?\"\n",
    "#    2. If you reply \"yes\" then it should break and print \"you didn't finish the race\"\n",
    "#    3. If you reply \"no\" then it should continue and ask \"are you tired\" on every km\n",
    "#    4. If you finish all 5 km then it should print congratulations message\n",
    "\n",
    "for i in range(5):\n",
    "    print(f\"You ran {i+1} km\")\n",
    "    tired=input(\"Are you tired? \")\n",
    "    if tired==\"yes\":\n",
    "        break\n",
    "if i==4:\n",
    "    print(\"Hurray! You have completed 5 km race\")\n",
    "else:\n",
    "    print(\"You didn't finish 5 km race\")"
   ]
  },
  {
   "cell_type": "code",
   "execution_count": 48,
   "id": "313b8554",
   "metadata": {},
   "outputs": [
    {
     "name": "stdout",
     "output_type": "stream",
     "text": [
      "*\n",
      "**\n",
      "***\n",
      "****\n",
      "*****\n",
      "******\n"
     ]
    }
   ],
   "source": [
    "# 5. Write a program that prints following shape\n",
    "# ```\n",
    "# *\n",
    "# **\n",
    "# ***\n",
    "# ****\n",
    "# *****\n",
    "# ```\n",
    "s=''\n",
    "for i in range (6):\n",
    "        s+='*'\n",
    "        print(s)\n"
   ]
  },
  {
   "cell_type": "code",
   "execution_count": 57,
   "id": "821eb3f8",
   "metadata": {},
   "outputs": [],
   "source": [
    "def print_pattern(n=5):\n",
    "    '''\n",
    "    :param n: Integer number representing number of lines\n",
    "    to be printed in a pattern. If n=3 it will print,\n",
    "      *\n",
    "      **\n",
    "      ***\n",
    "    If n=4, it will print,\n",
    "      *\n",
    "      **\n",
    "      ***\n",
    "      ****\n",
    "    Default value for n is 5. So if function caller doesn't\n",
    "    supply the input number then it will assume it to be 5\n",
    "    :return: None\n",
    "\n",
    "'''\n",
    "def print_pattern(n=5):\n",
    "    for i in range(n):\n",
    "        s = ''\n",
    "        for j in range(i+1):\n",
    "            s = s + '*'\n",
    "        print(s)    "
   ]
  },
  {
   "cell_type": "code",
   "execution_count": 59,
   "id": "cc73467e",
   "metadata": {},
   "outputs": [
    {
     "name": "stdout",
     "output_type": "stream",
     "text": [
      "*\n",
      "**\n",
      "***\n",
      "****\n",
      "*****\n",
      "******\n",
      "*******\n",
      "********\n"
     ]
    }
   ],
   "source": [
    "print_pattern(8)"
   ]
  },
  {
   "cell_type": "code",
   "execution_count": 61,
   "id": "0e6f277b",
   "metadata": {},
   "outputs": [],
   "source": [
    "\n",
    "def calculate_area(base,height,shape=\"triangle\"):\n",
    "    '''\n",
    "    :param dimension1: In case of triangle it is \"base\". For rectangle it is \"length\".\n",
    "    :param dimension2: In case of triangle it is \"height\". For rectangle it is \"width\".\n",
    "    :param shape: Either \"triangle\" or \"rectangle\"\n",
    "    :return: Area of a shape\n",
    "    '''\n",
    "    if shape==\"triangle\":\n",
    "        area=1/2*(base*height) # Triangle area is : 1/2(Base*Height)\n",
    "    elif shape==\"rectangle\":\n",
    "        area=base*height # Rectangle area is: Length*Width\n",
    "    else:\n",
    "        print(\"Error: Input shape is neither triangle nor rectangle.\")\n",
    "        area=None # If user didn't supply \"triangle\" or \"rectangle\" as shape then return None\n",
    "    return area\n"
   ]
  },
  {
   "cell_type": "code",
   "execution_count": 62,
   "id": "9625beeb",
   "metadata": {},
   "outputs": [
    {
     "name": "stdout",
     "output_type": "stream",
     "text": [
      "Area of triangle is: 25.0\n"
     ]
    }
   ],
   "source": [
    "# Calculate area of triangle whose base is 10 and height is 5\n",
    "base=10\n",
    "height=5\n",
    "triangle_area=calculate_area(base,height,\"triangle\")\n",
    "print(\"Area of triangle is:\",triangle_area)"
   ]
  },
  {
   "cell_type": "code",
   "execution_count": 63,
   "id": "fc50e1b4",
   "metadata": {},
   "outputs": [
    {
     "name": "stdout",
     "output_type": "stream",
     "text": [
      "Area of rectangle is: 600\n"
     ]
    }
   ],
   "source": [
    "# Calculate area of a rectangle whose length is 20 and width is 30\n",
    "length=20\n",
    "width=30\n",
    "rectangle_area=calculate_area(length,width,\"rectangle\")\n",
    "print(\"Area of rectangle is:\",rectangle_area)"
   ]
  },
  {
   "cell_type": "code",
   "execution_count": 64,
   "id": "87e16cc8",
   "metadata": {},
   "outputs": [
    {
     "name": "stdout",
     "output_type": "stream",
     "text": [
      "Area of triangle with no shape supplied:  25.0\n"
     ]
    }
   ],
   "source": [
    "# Calculate area of a triangle without supplying shape argument in a function call\n",
    "triangle_area=calculate_area(base,height) # Here third argument is missing\n",
    "print(\"Area of triangle with no shape supplied: \",triangle_area)"
   ]
  },
  {
   "cell_type": "markdown",
   "id": "f3483487",
   "metadata": {},
   "source": [
    "1.We have following information on countries and their population (population is in crores),\n",
    "\n",
    "# Country\tPopulation\n",
    "    China\t143\n",
    "    India\t136\n",
    "    USA\t     32\n",
    "    Pakistan 21\n",
    "\n",
    "1.Using above create a dictionary of countries and its population\n",
    "2.Write a program that asks user for three type of inputs,\n",
    "\n",
    "1. print: if user enter print then it should print all countries with their population in this format,\n",
    "china==>143\n",
    "india==>136\n",
    "usa==>32\n",
    "pakistan==>21\n",
    "    "
   ]
  },
  {
   "cell_type": "code",
   "execution_count": 65,
   "id": "15b60d39",
   "metadata": {},
   "outputs": [
    {
     "name": "stdout",
     "output_type": "stream",
     "text": [
      "{'china': 143, 'india': 136, 'usa': 32, 'pakistan': 21}\n"
     ]
    }
   ],
   "source": [
    "population = {\n",
    "    'china': 143,\n",
    "    'india': 136,\n",
    "    'usa': 32,\n",
    "    'pakistan': 21\n",
    "}\n",
    "print(population)"
   ]
  },
  {
   "cell_type": "code",
   "execution_count": 75,
   "id": "f17e54a5",
   "metadata": {},
   "outputs": [],
   "source": [
    "#2.define function add: \n",
    "# if user input add then it should further ask for a country name to \n",
    "# add. If country already exist in our dataset then it should print that\n",
    "# it exist and do nothing. If it doesn't then it asks for population and \n",
    "# add that new country/population in our dictionary and print it\n",
    "def add():\n",
    "    country=input(\"Enter country name to add:\")\n",
    "    country=country.lower()\n",
    "    if country in population:\n",
    "        print(\"Country already exist in our dataset. Terminating\")\n",
    "        return\n",
    "    p=input(f\"Enter population for {country}:\")\n",
    "    p=float(p)\n",
    "    population[country]=p # Adds new key value pair to dictionary\n",
    "    print_all()"
   ]
  },
  {
   "cell_type": "code",
   "execution_count": 77,
   "id": "5aa96299",
   "metadata": {},
   "outputs": [
    {
     "data": {
      "text/plain": [
       "{'china': 143, 'india': 136, 'usa': 32, 'pakistan': 21, 'germany': 670.0}"
      ]
     },
     "execution_count": 77,
     "metadata": {},
     "output_type": "execute_result"
    }
   ],
   "source": [
    "population"
   ]
  },
  {
   "cell_type": "code",
   "execution_count": 78,
   "id": "1bfbd1c9",
   "metadata": {},
   "outputs": [],
   "source": [
    "# 3.define function remove: when user inputs remove it should ask for a country \n",
    "# to remove. If country exist in our dictionary then remove it and print new\n",
    "# dictionary using format shown above in (a). Else print that country doesn't \n",
    "# exist!\n",
    "def remove():\n",
    "    country = input(\"Enter country name to remove:\")\n",
    "    country = country.lower()\n",
    "    if country not in population:\n",
    "        print(\"Country doesn't exist in our dataset. Terminating\")\n",
    "        return\n",
    "    del population[country]\n",
    "    print_all()"
   ]
  },
  {
   "cell_type": "code",
   "execution_count": 80,
   "id": "6cd36003",
   "metadata": {},
   "outputs": [
    {
     "name": "stdout",
     "output_type": "stream",
     "text": [
      "Enter country name to remove:'germany'\n",
      "Country doesn't exist in our dataset. Terminating\n"
     ]
    }
   ],
   "source": [
    "remove()"
   ]
  },
  {
   "cell_type": "code",
   "execution_count": 81,
   "id": "a26e446e",
   "metadata": {},
   "outputs": [],
   "source": [
    "# 4. define function query: on this again ask user for which country he or \n",
    "# she wants to query. When user inputs that country it will print population\n",
    "# of that country.\n",
    "def query():\n",
    "    country=input(\"Enter which country to query:\")\n",
    "    country=country.lower()\n",
    "    if country not in population:\n",
    "        print(\"Country doesn't exist in our database.Terminating\")\n",
    "        return\n",
    "    print(f\"Population of {country} is: {population[country]} crore\")\n"
   ]
  },
  {
   "cell_type": "code",
   "execution_count": 83,
   "id": "3b60fbd3",
   "metadata": {},
   "outputs": [
    {
     "name": "stdout",
     "output_type": "stream",
     "text": [
      "Enter which country to query:india\n",
      "Population of india is: 136 crore\n"
     ]
    }
   ],
   "source": [
    "query()\n"
   ]
  },
  {
   "cell_type": "code",
   "execution_count": 84,
   "id": "b2054511",
   "metadata": {},
   "outputs": [],
   "source": [
    "def print_all():\n",
    "    for country, p in population.items():\n",
    "        print(f\"{country}==>{p}\")"
   ]
  },
  {
   "cell_type": "code",
   "execution_count": 85,
   "id": "b38ebeba",
   "metadata": {},
   "outputs": [],
   "source": [
    "def main():\n",
    "    op=input(\"Enter operation (add, remove, query or print):\")\n",
    "    if op.lower() == 'add':\n",
    "        add()\n",
    "    elif op.lower() == 'remove':\n",
    "        remove()\n",
    "    elif op.lower() == 'query':\n",
    "        query()\n",
    "    elif op.lower() == 'print':\n",
    "        print_all()"
   ]
  },
  {
   "cell_type": "code",
   "execution_count": 86,
   "id": "68b4f702",
   "metadata": {},
   "outputs": [
    {
     "name": "stdout",
     "output_type": "stream",
     "text": [
      "Enter operation (add, remove, query or print):add\n",
      "Enter country name to add:russia\n",
      "Enter population for russia:340\n",
      "china==>143\n",
      "india==>136\n",
      "usa==>32\n",
      "pakistan==>21\n",
      "russia==>340.0\n"
     ]
    }
   ],
   "source": [
    "if __name__ == '__main__':\n",
    "    main()"
   ]
  },
  {
   "cell_type": "code",
   "execution_count": 87,
   "id": "a132a6ad",
   "metadata": {},
   "outputs": [
    {
     "name": "stdout",
     "output_type": "stream",
     "text": [
      "Enter operation (add, remove, query or print):query\n",
      "Enter which country to query:usa\n",
      "Population of usa is: 32 crore\n"
     ]
    }
   ],
   "source": [
    "main()"
   ]
  },
  {
   "cell_type": "markdown",
   "id": "d550c2ae",
   "metadata": {},
   "source": [
    "2.You are given following list of stocks and their prices in last 3 days,\n",
    "\n",
    "Stock\tPrices\n",
    "info\t[600,630,620]\n",
    "ril\t[1430,1490,1567]\n",
    "mtl\t[234,180,160]\n",
    "\n",
    "-Write a program that asks user for operation. Value of operations could be,\n",
    "    1.print: When user enters print it should print following,\n",
    "    info ==> [600, 630, 620] ==> avg:  616.67\n",
    "    ril ==> [1430, 1490, 1567] ==> avg:  1495.67\n",
    "    mtl ==> [234, 180, 160] ==> avg:  191.33\n",
    "    2.add: When user enters 'add', it asks for stock ticker and price. If                stock     already exist in your list (like info, ril etc) then it             will append the price to the list. Otherwise it will create             new entry in your dictionary. For example entering 'tata' and             560 will add tata ==> [560] to the dictionary of stocks."
   ]
  },
  {
   "cell_type": "code",
   "execution_count": 88,
   "id": "47e4b469",
   "metadata": {},
   "outputs": [],
   "source": [
    "import statistics\n",
    "\n",
    "stocks = {\n",
    "    'info': [600,630,620],\n",
    "    'ril': [1430,1490,1567],\n",
    "    'mtl': [234,180,160]\n",
    "}\n"
   ]
  },
  {
   "cell_type": "code",
   "execution_count": 89,
   "id": "3a11bcf8",
   "metadata": {},
   "outputs": [],
   "source": [
    "def print_all():\n",
    "    for stock,price_list in stocks.items():\n",
    "        avg = statistics.mean(price_list)\n",
    "        print(f\"{stock} ==> {price_list} ==> avg: \",round(avg,2))"
   ]
  },
  {
   "cell_type": "code",
   "execution_count": 90,
   "id": "17c5778c",
   "metadata": {},
   "outputs": [],
   "source": [
    "def add():\n",
    "    s = input(\"Enter a stock ticker to add:\")\n",
    "    p = input(\"Enter price of this stock:\")\n",
    "    p=float(p)\n",
    "    if s in stocks:\n",
    "        stocks[s].append(p)\n",
    "    else:\n",
    "        stocks[s] = [p]\n",
    "    print_all()\n"
   ]
  },
  {
   "cell_type": "code",
   "execution_count": 91,
   "id": "a4047eff",
   "metadata": {},
   "outputs": [],
   "source": [
    "def main():\n",
    "    op=input(\"Enter operation (print, add or amend):\")\n",
    "    if op.lower() == 'print':\n",
    "        print_all()\n",
    "    elif op.lower() == 'add':\n",
    "        add()\n",
    "    else:\n",
    "        print(\"Unsupported operation:\",op)"
   ]
  },
  {
   "cell_type": "code",
   "execution_count": 92,
   "id": "f29e14cd",
   "metadata": {},
   "outputs": [
    {
     "name": "stdout",
     "output_type": "stream",
     "text": [
      "Enter operation (print, add or amend):print\n",
      "info ==> [600, 630, 620] ==> avg:  616.67\n",
      "ril ==> [1430, 1490, 1567] ==> avg:  1495.67\n",
      "mtl ==> [234, 180, 160] ==> avg:  191.33\n"
     ]
    }
   ],
   "source": [
    "if __name__ == '__main__':\n",
    "    main()"
   ]
  },
  {
   "cell_type": "code",
   "execution_count": 96,
   "id": "175b49c5",
   "metadata": {},
   "outputs": [
    {
     "name": "stdout",
     "output_type": "stream",
     "text": [
      "Enter operation (print, add or amend):add\n",
      "Enter a stock ticker to add:rtc\n",
      "Enter price of this stock:450\n",
      "info ==> [600, 630, 620] ==> avg:  616.67\n",
      "ril ==> [1430, 1490, 1567] ==> avg:  1495.67\n",
      "mtl ==> [234, 180, 160] ==> avg:  191.33\n",
      "rtc ==> [890.0, 450.0] ==> avg:  670.0\n"
     ]
    }
   ],
   "source": [
    "main()"
   ]
  },
  {
   "cell_type": "code",
   "execution_count": 97,
   "id": "1e22d814",
   "metadata": {},
   "outputs": [
    {
     "name": "stdout",
     "output_type": "stream",
     "text": [
      "Enter a radius:6\n",
      "area 113.09733552923255, circumference 37.69911184307752, diameter 12.0\n"
     ]
    }
   ],
   "source": [
    "#Write circle_calc() function that takes radius of a circle as an input from user and then it calculates and returns area, circumference and diameter. You should get these values in your main program by calling circle_calc function and then print them\n",
    "import math\n",
    "\n",
    "def circle_calc(radius):\n",
    "    area=math.pi*(radius**2)\n",
    "    circumference=2*math.pi*radius\n",
    "    diameter=2*radius\n",
    "    return area, circumference,diameter\n",
    "\n",
    "if __name__==\"__main__\":\n",
    "    r=input(\"Enter a radius:\")\n",
    "    r=float(r)\n",
    "    area, c, d = circle_calc(r)\n",
    "    print(f\"area {area}, circumference {c}, diameter {d}\")"
   ]
  },
  {
   "cell_type": "code",
   "execution_count": null,
   "id": "0daf0428",
   "metadata": {},
   "outputs": [],
   "source": [
    "#import sys\n",
    "#sys.path.append(\"C:\\path to the file\")"
   ]
  },
  {
   "cell_type": "code",
   "execution_count": 6,
   "id": "c784b012",
   "metadata": {},
   "outputs": [
    {
     "name": "stdout",
     "output_type": "stream",
     "text": [
      "Enter num 1:8\n",
      "Enter num 2:2\n",
      "Division is:  1.0\n"
     ]
    }
   ],
   "source": [
    "# Exception Handling\n",
    "x=input(\"Enter num 1:\")\n",
    "y=x=input(\"Enter num 2:\")\n",
    "z=int(x) / int(y)\n",
    "print(\"Division is: \",z)"
   ]
  },
  {
   "cell_type": "code",
   "execution_count": 5,
   "id": "bfada543",
   "metadata": {},
   "outputs": [
    {
     "name": "stdout",
     "output_type": "stream",
     "text": [
      "Enter num 1:8\n",
      "Enter num 2:0\n",
      "exception occured: division by zero\n",
      "Division is:  None\n"
     ]
    }
   ],
   "source": [
    "x=input(\"Enter num 1:\")\n",
    "y=x=input(\"Enter num 2:\")\n",
    "try:\n",
    "    z=int(x)/int(y)\n",
    "except Exception as e:\n",
    "    print('exception occured:',e)\n",
    "    z=None\n",
    "print(\"Division is: \",z)"
   ]
  },
  {
   "cell_type": "code",
   "execution_count": 7,
   "id": "5d9f2afc",
   "metadata": {},
   "outputs": [
    {
     "name": "stdout",
     "output_type": "stream",
     "text": [
      "Enter num 1:8\n",
      "Enter num 2:0\n",
      "Division by zero exception\n",
      "Division is:  None\n"
     ]
    }
   ],
   "source": [
    "x=input(\"Enter num 1:\")\n",
    "y=x=input(\"Enter num 2:\")\n",
    "try:\n",
    "    z=int(x)/int(y)\n",
    "except ZeroDivisionError as e: # handling specific error not the generic eceptions\n",
    "    print('Division by zero exception')\n",
    "    z=None\n",
    "print(\"Division is: \",z)"
   ]
  },
  {
   "cell_type": "code",
   "execution_count": 10,
   "id": "474593d6",
   "metadata": {},
   "outputs": [
    {
     "name": "stdout",
     "output_type": "stream",
     "text": [
      "Enter num 1:8\n",
      "Enter num 2:4\n",
      "exception occured: <class 'TypeError'>\n",
      "Division is:  None\n"
     ]
    }
   ],
   "source": [
    "x=input(\"Enter num 1:\")\n",
    "y=x=input(\"Enter num 2:\")\n",
    "try:\n",
    "    z= x /int(y) # error in int(x)\n",
    "except Exception as e:\n",
    "    print('exception occured:',type(e))\n",
    "    z=None\n",
    "    \n",
    "print(\"Division is: \",z)"
   ]
  },
  {
   "cell_type": "code",
   "execution_count": 11,
   "id": "57b34e7d",
   "metadata": {},
   "outputs": [
    {
     "name": "stdout",
     "output_type": "stream",
     "text": [
      "Enter num 1:8\n",
      "Enter num 2:4\n",
      "TypeError exception\n",
      "Division is:  None\n"
     ]
    }
   ],
   "source": [
    "x=input(\"Enter num 1:\")\n",
    "y=x=input(\"Enter num 2:\")\n",
    "try:\n",
    "    z= x/int(y)\n",
    "except TypeError as e: # handling specific error not the generic eceptions\n",
    "    print('TypeError exception')\n",
    "    z=None\n",
    "print(\"Division is: \",z)"
   ]
  },
  {
   "cell_type": "markdown",
   "id": "99b01246",
   "metadata": {},
   "source": [
    "## class and objects\n",
    "defining properties to class Human,name(n) and occupation (O)"
   ]
  },
  {
   "cell_type": "code",
   "execution_count": 15,
   "id": "e9833bfb",
   "metadata": {},
   "outputs": [
    {
     "name": "stdout",
     "output_type": "stream",
     "text": [
      "Tom cruise shoots a film\n",
      "Tom cruise says how are you?\n"
     ]
    }
   ],
   "source": [
    "class Human:\n",
    "    def __init__(self,n,o):  # defining the properties or attributes to Human Class\n",
    "        self.name= n\n",
    "        self.occupation= o\n",
    "        \n",
    "    def do_work(self): # defining methods\n",
    "        if self.occupation==\"tennis player\":\n",
    "            print(self.name,\"plays tennis\")\n",
    "        elif self.occupation==\"actor\":\n",
    "            print(self.name,\"shoots a film\")\n",
    "            \n",
    "    def speaks(self):\n",
    "        print(self.name,\"says how are you?\")\n",
    "        \n",
    "# create instances\n",
    "\n",
    "tom=Human(\"Tom cruise\",\"actor\")\n",
    "tom.do_work()\n",
    "tom.speaks()\n"
   ]
  },
  {
   "cell_type": "code",
   "execution_count": 16,
   "id": "6e865ba3",
   "metadata": {},
   "outputs": [
    {
     "name": "stdout",
     "output_type": "stream",
     "text": [
      "Maria Sharapova plays tennis\n",
      "Maria Sharapova says how are you?\n"
     ]
    }
   ],
   "source": [
    "maria=Human(\"Maria Sharapova\",\"tennis player\")\n",
    "maria.do_work()\n",
    "maria.speaks()"
   ]
  },
  {
   "cell_type": "code",
   "execution_count": 17,
   "id": "839958d7",
   "metadata": {},
   "outputs": [
    {
     "data": {
      "text/plain": [
       "[\"'ls' is not recognized as an internal or external command,\",\n",
       " 'operable program or batch file.']"
      ]
     },
     "execution_count": 17,
     "metadata": {},
     "output_type": "execute_result"
    }
   ],
   "source": [
    "%system ls"
   ]
  },
  {
   "cell_type": "markdown",
   "id": "767ce977",
   "metadata": {},
   "source": [
    " <img src=\"https://pandas.pydata.org/static/img/pandas.svg\" style=\"width:400px;height:80px;\">\n",
    "\n",
    "# <font color='red'>Pandas Tutorial On Stock Price Analysis</font>"
   ]
  },
  {
   "cell_type": "code",
   "execution_count": 19,
   "id": "285a073b",
   "metadata": {},
   "outputs": [
    {
     "data": {
      "text/html": [
       "<iframe width=\"560\" height=\"315\" src=\"https://www.youtube.com/embed/EEEZX_0FMEc\" title=\"YouTube video player\" frameborder=\"0\" allow=\"accelerometer; autoplay; clipboard-write; encrypted-media; gyroscope; picture-in-picture\" allowfullscreen></iframe>\n"
      ],
      "text/plain": [
       "<IPython.core.display.HTML object>"
      ]
     },
     "metadata": {},
     "output_type": "display_data"
    }
   ],
   "source": [
    "%%HTML\n",
    "<iframe width=\"560\" height=\"315\" src=\"https://www.youtube.com/embed/EEEZX_0FMEc\" title=\"YouTube video player\" frameborder=\"0\" allow=\"accelerometer; autoplay; clipboard-write; encrypted-media; gyroscope; picture-in-picture\" allowfullscreen></iframe>"
   ]
  },
  {
   "cell_type": "code",
   "execution_count": null,
   "id": "08e535d4",
   "metadata": {},
   "outputs": [],
   "source": []
  },
  {
   "cell_type": "code",
   "execution_count": null,
   "id": "7a6727ff",
   "metadata": {},
   "outputs": [],
   "source": []
  },
  {
   "cell_type": "code",
   "execution_count": null,
   "id": "060b27d4",
   "metadata": {},
   "outputs": [],
   "source": []
  },
  {
   "cell_type": "code",
   "execution_count": null,
   "id": "25412cfa",
   "metadata": {},
   "outputs": [],
   "source": []
  },
  {
   "cell_type": "code",
   "execution_count": null,
   "id": "6d565db4",
   "metadata": {},
   "outputs": [],
   "source": []
  },
  {
   "cell_type": "code",
   "execution_count": null,
   "id": "18408929",
   "metadata": {},
   "outputs": [],
   "source": []
  },
  {
   "cell_type": "code",
   "execution_count": null,
   "id": "96727259",
   "metadata": {},
   "outputs": [],
   "source": []
  },
  {
   "cell_type": "code",
   "execution_count": null,
   "id": "e1d7f79a",
   "metadata": {},
   "outputs": [],
   "source": []
  },
  {
   "cell_type": "code",
   "execution_count": null,
   "id": "83ff7ae9",
   "metadata": {},
   "outputs": [],
   "source": []
  },
  {
   "cell_type": "code",
   "execution_count": null,
   "id": "f26a09d1",
   "metadata": {},
   "outputs": [],
   "source": []
  },
  {
   "cell_type": "code",
   "execution_count": null,
   "id": "02491153",
   "metadata": {},
   "outputs": [],
   "source": []
  },
  {
   "cell_type": "code",
   "execution_count": null,
   "id": "85767e32",
   "metadata": {},
   "outputs": [],
   "source": []
  },
  {
   "cell_type": "code",
   "execution_count": null,
   "id": "480d9e48",
   "metadata": {},
   "outputs": [],
   "source": []
  },
  {
   "cell_type": "code",
   "execution_count": null,
   "id": "290263d3",
   "metadata": {},
   "outputs": [],
   "source": []
  }
 ],
 "metadata": {
  "kernelspec": {
   "display_name": "Python 3 (ipykernel)",
   "language": "python",
   "name": "python3"
  },
  "language_info": {
   "codemirror_mode": {
    "name": "ipython",
    "version": 3
   },
   "file_extension": ".py",
   "mimetype": "text/x-python",
   "name": "python",
   "nbconvert_exporter": "python",
   "pygments_lexer": "ipython3",
   "version": "3.9.7"
  }
 },
 "nbformat": 4,
 "nbformat_minor": 5
}
